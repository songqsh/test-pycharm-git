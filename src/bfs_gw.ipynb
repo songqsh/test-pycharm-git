{
 "nbformat": 4,
 "nbformat_minor": 0,
 "metadata": {
  "colab": {
   "name": "Copy of python_notebook.ipynb",
   "provenance": [],
   "authorship_tag": "ABX9TyOkDGARnMVrClZ0WoY4wSh0",
   "include_colab_link": true
  },
  "kernelspec": {
   "name": "python3",
   "display_name": "Python 3"
  },
  "language_info": {
   "name": "python"
  }
 },
 "cells": [
  {
   "cell_type": "markdown",
   "metadata": {
    "id": "0YJSS56376aX"
   },
   "source": [
    "# BFS\n",
    "\n"
   ]
  },
  {
   "cell_type": "code",
   "metadata": {
    "id": "LxkL8bK375hG"
   },
   "source": [
    "# import packages\n",
    "import numpy as np\n",
    "import numpy.linalg as la\n",
    "np.set_printoptions(suppress=True)\n",
    "import itertools"
   ],
   "execution_count": 12,
   "outputs": []
  },
  {
   "cell_type": "code",
   "metadata": {
    "id": "jw7rKh7AxW79",
    "colab": {
     "base_uri": "https://localhost:8080/"
    },
    "outputId": "5cb4b4ae-49aa-4a02-abfe-467af7c2f22d"
   },
   "source": [
    "# setup\n",
    "A = np.array([[2., 1., 1, 0, 0], [1.,1,0,1, 0], [1., 0, 0, 0, 1]])\n",
    "b = np.array([100.,80,40])\n",
    "c = np.array([3,2,0., 0, 0])\n",
    "m, n = A.shape\n",
    "print(f'coefficient matrix is \\n {A}')\n",
    "print(f'right hand side vector is \\n {b}')\n",
    "print(f'coefficient of objective function is \\n {c}')\n",
    "print(f'n is {n} and m is {m}')"
   ],
   "execution_count": 13,
   "outputs": [
    {
     "name": "stdout",
     "output_type": "stream",
     "text": [
      "coefficient matrix is \n",
      " [[2. 1. 1. 0. 0.]\n",
      " [1. 1. 0. 1. 0.]\n",
      " [1. 0. 0. 0. 1.]]\n",
      "right hand side vector is \n",
      " [100.  80.  40.]\n",
      "coefficient of objective function is \n",
      " [3. 2. 0. 0. 0.]\n",
      "n is 5 and m is 3\n"
     ]
    }
   ]
  },
  {
   "cell_type": "code",
   "metadata": {
    "id": "Yde_dhs7x1-R",
    "colab": {
     "base_uri": "https://localhost:8080/"
    },
    "outputId": "1fd9d308-3108-4957-9731-44344ebf59ba",
    "pycharm": {
     "name": "#%%\n"
    }
   },
   "source": [
    "bv_list = itertools.combinations(range(n),m)\n",
    "counter = 0\n",
    "for bv in bv_list:\n",
    "  try:\n",
    "    print(f'inspecting basic variables with indices {bv} ...')\n",
    "    bs = la.solve(A[:,bv], b)\n",
    "    # print(f'...bs is {bs}')\n",
    "    if min(bs) >= 0:\n",
    "      counter = counter + 1\n",
    "      z=0\n",
    "      for i in range(m):\n",
    "        z = z + c[bv[i]]*bs[i]\n",
    "\n",
    "      print(f'...it is feasible with bfs {bs} and z-value is {z}')\n",
    "\n",
    "  except la.LinAlgError as err:\n",
    "    print(f'...{err}')\n",
    "    pass\n",
    "\n",
    "print(f'number of feasible solution is {counter}')"
   ],
   "execution_count": 14,
   "outputs": [
    {
     "name": "stdout",
     "output_type": "stream",
     "text": [
      "inspecting basic variables with indices (0, 1, 2) ...\n",
      "inspecting basic variables with indices (0, 1, 3) ...\n",
      "...it is feasible with bfs [40. 20. 20.] and z-value is 160.0\n",
      "inspecting basic variables with indices (0, 1, 4) ...\n",
      "...it is feasible with bfs [20. 60. 20.] and z-value is 180.0\n",
      "inspecting basic variables with indices (0, 2, 3) ...\n",
      "...it is feasible with bfs [40. 20. 40.] and z-value is 120.0\n",
      "inspecting basic variables with indices (0, 2, 4) ...\n",
      "inspecting basic variables with indices (0, 3, 4) ...\n",
      "inspecting basic variables with indices (1, 2, 3) ...\n",
      "...Singular matrix\n",
      "inspecting basic variables with indices (1, 2, 4) ...\n",
      "...it is feasible with bfs [80. 20. 40.] and z-value is 160.0\n",
      "inspecting basic variables with indices (1, 3, 4) ...\n",
      "inspecting basic variables with indices (2, 3, 4) ...\n",
      "...it is feasible with bfs [100.  80.  40.] and z-value is 0.0\n",
      "number of feasible solution is 5\n"
     ]
    }
   ]
  },
  {
   "cell_type": "code",
   "execution_count": 14,
   "outputs": [],
   "source": [],
   "metadata": {
    "collapsed": false,
    "pycharm": {
     "name": "#%%\n"
    }
   }
  }
 ]
}